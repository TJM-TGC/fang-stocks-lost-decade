{
 "cells": [
  {
   "cell_type": "code",
   "execution_count": 1,
   "metadata": {},
   "outputs": [],
   "source": [
    "# Making Big Database\n",
    "# Should I do it through SQL Alchemy? / SQL Lite? \n",
    "# Decisions\n",
    "# Facebook has bad data!"
   ]
  },
  {
   "cell_type": "code",
   "execution_count": 4,
   "metadata": {},
   "outputs": [],
   "source": [
    "import os\n",
    "import pandas as pd\n",
    "import numpy as np\n",
    "from matplotlib import pyplot as plt\n",
    "import csv"
   ]
  },
  {
   "cell_type": "code",
   "execution_count": 19,
   "metadata": {},
   "outputs": [],
   "source": [
    "# Pull CSVs and Clear 0 Values\n",
    "ev_sales = pd.read_csv(\"data/ev_sales.csv\")\n",
    "ebitda = pd.read_csv(\"data/ebitda.csv\")\n",
    "mktcap = pd.read_csv(\"data/mktcap.csv\")\n",
    "\n",
    "# Pull EV Sales\n",
    "amzn_evsales = ev_sales[\"AMZN EV/S (LTM)\"]\n",
    "nflx_evsales = ev_sales[\"NFLX EV/S (LTM)\"]\n",
    "aapl_evsales = ev_sales[\"AAPL EV/S (LTM)\"]\n",
    "googl_evsales = ev_sales[\"GOOGL EV/S (LTM)\"]\n",
    "\n",
    "# Pull EBITA\n",
    "amzn_ebitda = ebitda[\"AMZN EBITDA (FQ)\"]\n",
    "nflx_ebitda = ebitda[\"NFLX EBITDA (FQ)\"]\n",
    "aapl_ebitda = ebitda[\"AAPL EBITDA (FQ)\"]\n",
    "googl_ebitda = ebitda[\"GOOGL EBITDA (FQ)\"]\n",
    "\n",
    "# Pull Market Capitalization\n",
    "amzn_mktcap = mktcap[\"AMZN Mkt Cap\"]\n",
    "nflx_mktcap = mktcap[\"NFLX Mkt Cap\"]\n",
    "aapl_mktcap = mktcap[\"AAPL Mkt Cap\"]\n",
    "googl_mktcap = mktcap[\"GOOGL Mkt Cap\"]\n",
    "\n",
    "# Pull Price\n"
   ]
  },
  {
   "cell_type": "code",
   "execution_count": 23,
   "metadata": {},
   "outputs": [
    {
     "name": "stdout",
     "output_type": "stream",
     "text": [
      "0       58,244.87\n",
      "1       59,097.85\n",
      "2       60,362.16\n",
      "3       60,318.86\n",
      "4       59,955.16\n",
      "          ...    \n",
      "3291       408.58\n",
      "3292       468.23\n",
      "3293       489.11\n",
      "3294       495.08\n",
      "3295       560.69\n",
      "Name: AMZN Mkt Cap, Length: 3296, dtype: object\n",
      "0       2,947.06\n",
      "1       2,976.05\n",
      "2       3,048.16\n",
      "3       3,067.42\n",
      "4       3,043.35\n",
      "          ...   \n",
      "3291        0.00\n",
      "3292        0.00\n",
      "3293        0.00\n",
      "3294        0.00\n",
      "3295        0.00\n",
      "Name: NFLX Mkt Cap, Length: 3296, dtype: object\n",
      "0       190,785.89\n",
      "1       191,607.96\n",
      "2       189,308.38\n",
      "3       191,580.81\n",
      "4       189,254.05\n",
      "           ...    \n",
      "3291      2,132.22\n",
      "3292      2,179.60\n",
      "3293      2,148.01\n",
      "3294      2,179.60\n",
      "3295      2,242.78\n",
      "Name: AAPL Mkt Cap, Length: 3296, dtype: object\n",
      "0       196,701.27\n",
      "1       197,573.77\n",
      "2       196,517.26\n",
      "3       197,618.19\n",
      "4       196,225.37\n",
      "           ...    \n",
      "3291          0.00\n",
      "3292          0.00\n",
      "3293          0.00\n",
      "3294          0.00\n",
      "3295          0.00\n",
      "Name: GOOGL Mkt Cap, Length: 3296, dtype: object\n"
     ]
    }
   ],
   "source": [
    "names = [\"AMZN Mkt Cap\", \"NFLX Mkt Cap\", \"AAPL Mkt Cap\", \"GOOGL Mkt Cap\"]\n",
    "\n",
    "for a in names:\n",
    "    print(f'{mktcap[a]}')"
   ]
  },
  {
   "cell_type": "code",
   "execution_count": null,
   "metadata": {},
   "outputs": [],
   "source": []
  }
 ],
 "metadata": {
  "kernelspec": {
   "display_name": "Python 3",
   "language": "python",
   "name": "python3"
  },
  "language_info": {
   "codemirror_mode": {
    "name": "ipython",
    "version": 3
   },
   "file_extension": ".py",
   "mimetype": "text/x-python",
   "name": "python",
   "nbconvert_exporter": "python",
   "pygments_lexer": "ipython3",
   "version": "3.8.3"
  }
 },
 "nbformat": 4,
 "nbformat_minor": 4
}
